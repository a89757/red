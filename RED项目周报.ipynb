{
  "nbformat": 4,
  "nbformat_minor": 0,
  "metadata": {
    "kernelspec": {
      "display_name": "Python 3",
      "language": "python",
      "name": "python3"
    },
    "language_info": {
      "codemirror_mode": {
        "name": "ipython",
        "version": 3
      },
      "file_extension": ".py",
      "mimetype": "text/x-python",
      "name": "python",
      "nbconvert_exporter": "python",
      "pygments_lexer": "ipython3",
      "version": "3.7.4"
    },
    "toc": {
      "base_numbering": 1,
      "nav_menu": {},
      "number_sections": true,
      "sideBar": true,
      "skip_h1_title": false,
      "title_cell": "Table of Contents",
      "title_sidebar": "Contents",
      "toc_cell": false,
      "toc_position": {},
      "toc_section_display": true,
      "toc_window_display": false
    },
    "colab": {
      "name": "RED项目周报.ipynb",
      "provenance": [],
      "include_colab_link": true
    }
  },
  "cells": [
    {
      "cell_type": "markdown",
      "metadata": {
        "id": "view-in-github",
        "colab_type": "text"
      },
      "source": [
        "<a href=\"https://colab.research.google.com/github/a89757/red/blob/master/RED%E9%A1%B9%E7%9B%AE%E5%91%A8%E6%8A%A5.ipynb\" target=\"_parent\"><img src=\"https://colab.research.google.com/assets/colab-badge.svg\" alt=\"Open In Colab\"/></a>"
      ]
    },
    {
      "cell_type": "code",
      "metadata": {
        "ExecuteTime": {
          "end_time": "2020-05-17T11:29:15.387385Z",
          "start_time": "2020-05-17T11:29:13.120645Z"
        },
        "scrolled": true,
        "id": "pbQDWqR6Fc7S",
        "colab_type": "code",
        "colab": {}
      },
      "source": [
        "import pandas as pd\n",
        "import numpy as np\n",
        "import seaborn as sns\n",
        "pd.options.display.max_columns = None\n",
        "pd.set_option('display.max_colwidth', 20)\n",
        "\n",
        "A = '5月考核家数报表.xlsx'\n",
        "\n",
        "a = pd.read_excel(io=A, sheet_name='Sheet0', header=None, skiprows=3, usecols=[2, 4, 5, 10, 11,\n",
        "                                                                               13, 14, 15, 16,\n",
        "                                                                               23, 24, 25, 26,\n",
        "                                                                               43, 44, 45, 46,\n",
        "                                                                               53, 54, 55, 56,\n",
        "                                                                               33, 34, 35, 36,\n",
        "                                                                               17, 18, 27, 28, 37, 38, 47, 48, 57, 58])\n",
        "\n",
        "a_cols = ['办事处', '姓名', '工号', '目标家数', '拜访网点数',\n",
        "          '主货架-红牛-点数', '主货架-红牛$-点数', '主货架-战马-点数', '主货架-战马$-点数', '主货架-果倍爽-点数', '主货架-果倍爽$-点数',\n",
        "          '冰柜-红牛-点数', '冰柜-红牛$-点数', '冰柜-战马-点数', '冰柜-战马$-点数', '冰柜-果倍爽-点数', '冰柜-果倍爽$-点数',\n",
        "          '多点-红牛-点数', '多点-红牛$-点数', '多点-战马-点数', '多点-战马$-点数', '多点-果倍爽-点数', '多点-果倍爽$-点数',\n",
        "          '堆箱-红牛-点数', '堆箱-红牛$-点数', '堆箱-战马-点数', '堆箱-战马$-点数', '堆箱-果倍爽-点数', '堆箱-果倍爽$-点数',\n",
        "          '生动化-红牛-点数', '生动化-红牛$-点数', '生动化-战马-点数', '生动化-战马$-点数', '生动化-果倍爽-点数', '生动化-果倍爽$-点数']\n",
        "a.columns = a_cols\n",
        "#\n",
        "a['货架-红牛-点'] = a['主货架-红牛-点数'] + a['主货架-红牛$-点数']\n",
        "a['冰柜-红牛-点'] = a['冰柜-红牛-点数'] + a['冰柜-红牛$-点数']\n",
        "a['堆箱-红牛-点'] = a['堆箱-红牛-点数'] + a['堆箱-红牛$-点数']\n",
        "a['多点-红牛-点'] = a['多点-红牛-点数'] + a['多点-红牛$-点数']\n",
        "a['生动化-红牛-点'] = a['生动化-红牛-点数'] + a['生动化-红牛$-点数']\n",
        "#\n",
        "a['货架-战马-点'] = a['主货架-战马-点数'] + a['主货架-战马$-点数']\n",
        "a['冰柜-战马-点'] = a['冰柜-战马-点数'] + a['冰柜-战马$-点数']\n",
        "a['堆箱-战马-点'] = a['堆箱-战马-点数'] + a['堆箱-战马$-点数']\n",
        "a['多点-战马-点'] = a['多点-战马-点数'] + a['多点-战马$-点数']\n",
        "a['生动化-战马-点'] = a['生动化-战马-点数'] + a['生动化-战马$-点数']\n",
        "#\n",
        "a['货架-果倍爽-点'] = a['主货架-果倍爽-点数'] + a['主货架-果倍爽$-点数']\n",
        "a['冰柜-果倍爽-点'] = a['冰柜-果倍爽-点数'] + a['冰柜-果倍爽$-点数']\n",
        "a['堆箱-果倍爽-点'] = a['堆箱-果倍爽-点数'] + a['堆箱-果倍爽$-点数']\n",
        "a['多点-果倍爽-点'] = a['多点-果倍爽-点数'] + a['多点-果倍爽$-点数']\n",
        "a['生动化-果倍爽-点'] = a['生动化-果倍爽-点数'] + a['生动化-果倍爽$-点数']\n",
        "a = a.fillna(value=0)\n",
        "a['工号'] = a['工号'].astype('int64')\n",
        "a['目标家数'] = a['目标家数'].astype('int64')\n",
        "a = a[a['工号'] > 0]\n",
        "a = a[a['目标家数'] > 0]\n",
        "a1 = a.iloc[:, 0:5]\n",
        "a2 = a.iloc[:, 35:51]\n",
        "a = pd.concat([a1, a2], axis=1)\n",
        "a.reset_index(drop=True, inplace=True)\n",
        "a.insert(2, '办事处-姓名', a['办事处'].str.cat(a['姓名'], sep='-'))"
      ],
      "execution_count": 0,
      "outputs": []
    },
    {
      "cell_type": "code",
      "metadata": {
        "ExecuteTime": {
          "end_time": "2020-05-17T11:29:24.872747Z",
          "start_time": "2020-05-17T11:29:15.393350Z"
        },
        "id": "bESU3VJXFc7s",
        "colab_type": "code",
        "colab": {}
      },
      "source": [
        "DD = '5月渠道订单导出列表.xlsx'\n",
        "dd = pd.read_excel(io=DD,sheet_name='Sheet0',usecols=[4,28,30,34])\n",
        "dd1 = dd.fillna(value=0)\n",
        "dd1 = dd1.loc[dd1['品牌'].isin(['红牛','战马','果倍爽'])]\n",
        "dd1['办事处-姓名'] = dd1['办事处'].str.cat(dd1['业务员'],sep='-')\n",
        "dd2 = dd1.pivot_table(index='办事处-姓名',columns='品牌',values='产品数量',aggfunc=np.sum,fill_value=0)\n",
        "dd2 = pd.DataFrame(dd2)\n",
        "dd2.reset_index(drop=False,inplace=True)\n",
        "dd2.columns = ['办事处-姓名','订单-战马-订单','订单-果倍爽-订单','订单-红牛-订单']"
      ],
      "execution_count": 0,
      "outputs": []
    },
    {
      "cell_type": "code",
      "metadata": {
        "ExecuteTime": {
          "end_time": "2020-05-17T11:29:24.901451Z",
          "start_time": "2020-05-17T11:29:24.879737Z"
        },
        "id": "3gTePkxRFc75",
        "colab_type": "code",
        "colab": {}
      },
      "source": [
        "aa = pd.merge(a,dd2,on='办事处-姓名',how='left')\n",
        "aa = aa.drop(columns=['办事处-姓名'])"
      ],
      "execution_count": 0,
      "outputs": []
    },
    {
      "cell_type": "code",
      "metadata": {
        "ExecuteTime": {
          "end_time": "2020-05-17T11:29:25.271021Z",
          "start_time": "2020-05-17T11:29:24.907514Z"
        },
        "id": "BKKs_sV8Fc8D",
        "colab_type": "code",
        "colab": {}
      },
      "source": [
        "B = '5月考核家次报表.xlsx'\n",
        "b = pd.read_excel(io=B, sheet_name='Sheet0', header=None, skiprows=4, usecols=[5, 10, 11, 13,\n",
        "                                                                               15, 16, 17, 18,\n",
        "                                                                               25, 26, 27, 28,\n",
        "                                                                               45, 46, 47, 48,\n",
        "                                                                               55, 56, 57, 58,\n",
        "                                                                               35, 36, 37, 38,\n",
        "                                                                               19, 20, 29, 30, 39, 40, 49, 50, 59, 60])\n",
        "b_cols = ['工号', '目标家次', '拜访总点次', '有效拜访点次',\n",
        "          '主货架-红牛-点次', '主货架-红牛$-点次', '主货架-战马-点次', '主货架-战马$-点次', '主货架-果倍爽-点次', '主货架-果倍爽$-点次',\n",
        "          '冰柜-红牛-点次', '冰柜-红牛$-点次', '冰柜-战马-点次', '冰柜-战马$-点次', '冰柜-果倍爽-点次', '冰柜-果倍爽$-点次',\n",
        "          '多点-红牛-点次', '多点-红牛$-点次', '多点-战马-点次', '多点-战马$-点次', '多点-果倍爽-点次', '多点-果倍爽$-点次',\n",
        "          '堆箱-红牛-点次', '堆箱-红牛$-点次', '堆箱-战马-点次', '堆箱-战马$-点次', '堆箱-果倍爽-点次', '堆箱-果倍爽$-点次',\n",
        "          '生动化-红牛-点次', '生动化-红牛$-点次', '生动化-战马-点次', '生动化-战马$-点次', '生动化-果倍爽-点次', '生动化-果倍爽$-点次']\n",
        "b.columns = b_cols\n",
        "b = b.fillna(value=0)\n",
        "#\n",
        "b['货架-红牛-次'] = b['主货架-红牛-点次'] + b['主货架-红牛$-点次']\n",
        "b['冰柜-红牛-次'] = b['冰柜-红牛-点次'] + b['冰柜-红牛$-点次']\n",
        "b['堆箱-红牛-次'] = b['堆箱-红牛-点次'] + b['堆箱-红牛$-点次']\n",
        "b['多点-红牛-次'] = b['多点-红牛-点次'] + b['多点-红牛$-点次']\n",
        "b['生动化-红牛-次'] = b['生动化-红牛-点次'] + b['生动化-红牛$-点次']\n",
        "#\n",
        "b['货架-战马-次'] = b['主货架-战马-点次'] + b['主货架-战马$-点次']\n",
        "b['冰柜-战马-次'] = b['冰柜-战马-点次'] + b['冰柜-战马$-点次']\n",
        "b['堆箱-战马-次'] = b['堆箱-战马-点次'] + b['堆箱-战马$-点次']\n",
        "b['多点-战马-次'] = b['多点-战马-点次'] + b['多点-战马$-点次']\n",
        "b['生动化-战马-次'] = b['生动化-战马-点次'] + b['生动化-战马$-点次']\n",
        "#\n",
        "b['货架-果倍爽-次'] = b['主货架-果倍爽-点次'] + b['主货架-果倍爽$-点次']\n",
        "b['冰柜-果倍爽-次'] = b['冰柜-果倍爽-点次'] + b['冰柜-果倍爽$-点次']\n",
        "b['堆箱-果倍爽-次'] = b['堆箱-果倍爽-点次'] + b['堆箱-果倍爽$-点次']\n",
        "b['多点-果倍爽-次'] = b['多点-果倍爽-点次'] + b['多点-果倍爽$-点次']\n",
        "b['生动化-果倍爽-次'] = b['生动化-果倍爽-点次'] + b['生动化-果倍爽$-点次']\n",
        "b['工号'] = b['工号'].astype('int64')\n",
        "b['目标家次'] = b['目标家次'].astype('int64')\n",
        "b = b[b['工号'] > 0]\n",
        "b = b[b['目标家次'] > 0]\n",
        "b1 = b.iloc[:, 0:4]\n",
        "b2 = b.iloc[:, 34:49]\n",
        "b = pd.concat([b1, b2], axis=1)\n",
        "b.reset_index(drop=True, inplace=True)"
      ],
      "execution_count": 0,
      "outputs": []
    },
    {
      "cell_type": "code",
      "metadata": {
        "ExecuteTime": {
          "end_time": "2020-05-17T11:29:25.347717Z",
          "start_time": "2020-05-17T11:29:25.275087Z"
        },
        "scrolled": true,
        "id": "usKP-w69Fc8K",
        "colab_type": "code",
        "colab": {}
      },
      "source": [
        "x9 = pd.merge(aa, b, on='工号', how='left')\n",
        "x9.set_index(['办事处', '姓名', '工号', '目标家数', '拜访网点数',\n",
        "             '目标家次', '拜访总点次', '有效拜访点次'], inplace=True)\n",
        "x9 = x9.stack()\n",
        "x9 = pd.DataFrame(x9)\n",
        "x9.reset_index(inplace=True)\n",
        "x9 = pd.concat([x9, x9['level_8'].str.split('-', expand=True)], axis=1)\n",
        "x1 = ['办事处', '姓名', '工号', '目标家数', '拜访网点数', '目标家次',\n",
        "      '拜访总家次', '有效拜访点次', '考核项目', '值', '项目', '品牌', '点OR次OR量']\n",
        "x9.columns = x1\n",
        "x9 = x9.drop(columns=['考核项目'])\n",
        "x9['值'] = x9['值'].astype('int64')"
      ],
      "execution_count": 0,
      "outputs": []
    },
    {
      "cell_type": "code",
      "metadata": {
        "ExecuteTime": {
          "end_time": "2020-05-17T11:29:25.466319Z",
          "start_time": "2020-05-17T11:29:25.355043Z"
        },
        "scrolled": true,
        "id": "Jz7aZ7w6Fc8R",
        "colab_type": "code",
        "colab": {}
      },
      "source": [
        "y = x9.pivot_table(values=['值'], index=['办事处', '姓名', '工号', '目标家数', '拜访网点数', '目标家次', '拜访总家次', '有效拜访点次', '品牌'],\n",
        "                   columns=['点OR次OR量', '项目'], aggfunc='sum')\n",
        "y = pd.DataFrame(y)\n",
        "y.reset_index(drop=False, inplace=True)\n",
        "y.to_csv('5-1.csv', encoding='utf-8-sig', index=False)\n",
        "y1 = pd.read_csv('5-1.csv', header=None, skiprows=3)\n",
        "y1_cols = ['办事处', '姓名', '工号', '目标家数', '拜访网点数', '目标家次', '拜访总家次', '有效拜访点次', '品牌', \\\n",
        "           '冰柜-点次达成', '堆箱-点次达成', '多点-点次达成', '生动化-点次达成', '货架-点次达成', '冰柜-点', \\\n",
        "           '堆箱-点', '多点-点', '生动化-点', '货架-点','订单量']\n",
        "y1.columns = y1_cols\n",
        "y1 = y1.fillna(value=0)\n",
        "px1 = ['红牛', '战马', '果倍爽']\n",
        "y1['品牌'] = y1['品牌'].astype('category')\n",
        "y1['品牌'].cat.reorder_categories(px1, inplace=True)\n",
        "y1.sort_values(['办事处', '姓名', '工号', '品牌'], inplace=True)\n",
        "y1.reset_index(drop=True, inplace=True)\n",
        "y1['办事处-品牌'] = y1['办事处'].str.cat(y1['品牌'],sep='-')"
      ],
      "execution_count": 0,
      "outputs": []
    },
    {
      "cell_type": "code",
      "metadata": {
        "ExecuteTime": {
          "end_time": "2020-05-17T11:29:26.948177Z",
          "start_time": "2020-05-17T11:29:25.470094Z"
        },
        "scrolled": true,
        "id": "lLb2IVVXFc8V",
        "colab_type": "code",
        "colab": {}
      },
      "source": [
        "D = '5月RED项目参与办事处明细与目标.xlsx'\n",
        "d = pd.read_excel(io=D, sheet_name='相关比例', header=0, skiprows=None)\n",
        "d = d.fillna(value=0)\n",
        "d['办事处-品牌'] = d['办事处'].str.cat(d['品牌'], sep='-')\n",
        "d = d.iloc[:, 4:23]"
      ],
      "execution_count": 0,
      "outputs": []
    },
    {
      "cell_type": "code",
      "metadata": {
        "ExecuteTime": {
          "end_time": "2020-05-17T11:29:26.969062Z",
          "start_time": "2020-05-17T11:29:26.952681Z"
        },
        "id": "dxNAMyJvFc8b",
        "colab_type": "code",
        "colab": {}
      },
      "source": [
        "z = pd.merge(y1, d, on='办事处-品牌', how='left')"
      ],
      "execution_count": 0,
      "outputs": []
    },
    {
      "cell_type": "code",
      "metadata": {
        "ExecuteTime": {
          "end_time": "2020-05-17T11:29:27.308755Z",
          "start_time": "2020-05-17T11:29:26.978226Z"
        },
        "id": "ETnPYcEiFc8f",
        "colab_type": "code",
        "colab": {}
      },
      "source": [
        "z['货架点次目标'] = z['目标家次'] * z['主货架达标比例']\n",
        "z['生动化点次目标'] = z['目标家次'] * z['生动化达标比例']\n",
        "z['冰柜点次目标'] = z['目标家次'] * z['冰箱达标比例']\n",
        "z['堆箱点次目标'] = z['目标家次'] * z['堆箱达标比例']\n",
        "z['多点点次目标'] = z['目标家次'] * z['多点达标比例']\n",
        "z1 = z.iloc[:,[0,1,3,4,5,6,7,8,19,39,13,40,12,41,9,42,10,43,11]]\n",
        "z1.insert(11,'货架点次达成率',z['货架-点次达成']/z['货架点次目标'])\n",
        "z1.insert(14, '生动化点次达成率', z['生动化-点次达成'] / z['生动化点次目标'])\n",
        "z1.insert(17, '冰柜点次达成率', z['冰柜-点次达成'] / z['冰柜点次目标'])\n",
        "z1.insert(20, '堆箱点次达成率', z['堆箱-点次达成'] / z['堆箱点次目标'])\n",
        "z1.insert(23, '多点点次达成率', z['多点-点次达成'] / z['多点点次目标'])\n",
        "z1.insert(4, '拜访网点达成率', z['拜访网点数']/z['目标家数'])\n",
        "z1.insert(7, '拜访家次达成率', z['拜访总家次']/z['目标家次'])\n",
        "z1.insert(9, '有效拜访率', z['有效拜访点次']/z['拜访总家次'])\n",
        "z2 = z1.replace([np.inf, -np.inf], np.nan)\n",
        "z2['货架点次达成率'] = z2['货架点次达成率'].apply(lambda x: format(x, '.0%'))\n",
        "z2['生动化点次达成率'] = z2['生动化点次达成率'].apply(lambda x: format(x, '.0%'))\n",
        "z2['冰柜点次达成率'] = z2['冰柜点次达成率'].apply(lambda x: format(x, '.0%'))\n",
        "z2['堆箱点次达成率'] = z2['堆箱点次达成率'].apply(lambda x: format(x, '.0%'))\n",
        "z2['多点点次达成率'] = z2['多点点次达成率'].apply(lambda x: format(x, '.0%'))\n",
        "z2['拜访网点达成率'] = z2['拜访网点达成率'].apply(lambda x: format(x, '.0%'))\n",
        "z2['拜访家次达成率'] = z2['拜访家次达成率'].apply(lambda x: format(x, '.0%'))\n",
        "z2['有效拜访率'] = z2['有效拜访率'].apply(lambda x: format(x, '.0%'))\n",
        "z2['订单量'] = z2['订单量'].astype('int64')\n",
        "z2['货架点次目标'] = z2['货架点次目标'].astype('int64')\n",
        "z2['生动化点次目标'] = z2['生动化点次目标'].astype('int64')\n",
        "z2['冰柜点次目标'] = z2['冰柜点次目标'].astype('int64')\n",
        "z2['堆箱点次目标'] = z2['堆箱点次目标'].astype('int64')\n",
        "z2['多点点次目标'] = z2['多点点次目标'].astype('int64')\n",
        "z2['货架-点次达成'] = z2['货架-点次达成'].astype('int64')\n",
        "z2['生动化-点次达成'] = z2['生动化-点次达成'].astype('int64')\n",
        "z2['冰柜-点次达成'] = z2['冰柜-点次达成'].astype('int64')\n",
        "z2['堆箱-点次达成'] = z2['堆箱-点次达成'].astype('int64')\n",
        "z2['多点-点次达成'] = z2['多点-点次达成'].astype('int64')\n",
        "z3 = z2.sort_values(['办事处', '有效拜访点次'], ascending=False)\n",
        "z3.set_index(['办事处', '姓名', '目标家数', '拜访网点数', '拜访网点达成率', '目标家次', '拜访总家次',\n",
        "               '拜访家次达成率', '有效拜访点次', '有效拜访率', '品牌'], inplace=True)\n",
        "z3.to_excel('RED项目5月执行结果.xlsx')"
      ],
      "execution_count": 0,
      "outputs": []
    },
    {
      "cell_type": "code",
      "metadata": {
        "ExecuteTime": {
          "end_time": "2020-05-17T14:05:29.640506Z",
          "start_time": "2020-05-17T14:03:37.456491Z"
        },
        "id": "Y5FzEM58Fc8j",
        "colab_type": "code",
        "colab": {}
      },
      "source": [
        "pd.set_option('colheader_justify', 'center')\n",
        "color_map = sns.light_palette('green',as_cmap=True)\n",
        "color_map_pink = sns.light_palette('red',as_cmap=True)\n",
        "z4 = z3.style.background_gradient(color_map, subset=['货架-点次达成','生动化-点次达成','冰柜-点次达成', \\\n",
        "                                                     '堆箱-点次达成','多点-点次达成','订单量'])\n",
        "z3_1 = 'RED项目达成分析-业务员'\n",
        "z4.to_excel('RED项目达成分析-业务员.xlsx')\n",
        "z3_html = (\n",
        "          z3.style\n",
        "          .set_properties(**{'font-size': '14pt', 'font-family': 'Helvetica', 'text-align': 'right', \\\n",
        "                            'border-collapse': 'collapse', 'border': '0.2px solid black', 'padding': '5px'})\n",
        "          .background_gradient(color_map, subset=['货架-点次达成','生动化-点次达成','冰柜-点次达成', \\\n",
        "                                                     '堆箱-点次达成','多点-点次达成','订单量'])\n",
        "          .background_gradient(color_map_pink, subset=['货架点次目标', '生动化点次目标', '冰柜点次目标', \\\n",
        "                                                       '堆箱点次目标', '多点点次目标'])\n",
        "          .set_caption(z3_1)\n",
        "          .set_table_styles(\n",
        "                [{'selector': 'th',\n",
        "                  'props': [('background-color', 'white'),\n",
        "                           ('border', '0.2px solid black'),\n",
        "                           ('font-size','13pt')]}]\n",
        "#                  'th_props': [('border', '2px solid black')]}]\n",
        ")\n",
        "          .render()\n",
        ")\n",
        "with open('ywydc.html', 'w', encoding=\"utf-8\") as f:\n",
        "    f.writelines('<meta charset=\"UTF-8\">\\n<link rel=\"shortcut icon\" href=\"favicon.ico\">\\n')\n",
        "    f.write(z3_html)"
      ],
      "execution_count": 0,
      "outputs": []
    },
    {
      "cell_type": "code",
      "metadata": {
        "ExecuteTime": {
          "end_time": "2020-05-17T14:00:36.133885Z",
          "start_time": "2020-05-17T14:00:24.557832Z"
        },
        "scrolled": true,
        "id": "DpV5tiJNFc8m",
        "colab_type": "code",
        "colab": {}
      },
      "source": [
        "cx_1 = '城西办事处数据'\n",
        "cx_2 = '城西办事处'\n",
        "cx = z2[z2['办事处'] == cx_2]\n",
        "#cx = cx.sort_values(['有效拜访点次'], ascending=False)\n",
        "cx.set_index(['办事处', '姓名', '目标家数', '拜访网点数', '拜访网点达成率', '目标家次', '拜访总家次',\n",
        "               '拜访家次达成率', '有效拜访点次', '有效拜访率', '品牌'], inplace=True)\n",
        "cx_html = (\n",
        "          cx.style\n",
        "          .set_properties(**{'font-size': '14pt', 'font-family': 'Helvetica', 'text-align': 'right', \\\n",
        "                            'border-collapse': 'collapse', 'border': '0.5px solid black', 'padding': '5px'})\n",
        "          .background_gradient(color_map, subset=['货架-点次达成','生动化-点次达成','冰柜-点次达成', \\\n",
        "                                                     '堆箱-点次达成','多点-点次达成','订单量'])\n",
        "          .background_gradient(color_map_pink, subset=['货架点次目标', '生动化点次目标', '冰柜点次目标', \\\n",
        "                                                       '堆箱点次目标', '多点点次目标'])\n",
        "          .set_caption(cx_1)\n",
        "          .set_table_styles(\n",
        "                [{'selector': 'th',\n",
        "                  'props': [('background-color', 'white'),\n",
        "                           ('border', '0.5px solid black'),\n",
        "                           ('font-size','13pt')]}]\n",
        "#                  'th_props': [('border', '2px solid black')]}]\n",
        ")\n",
        "          .render()\n",
        ")\n",
        "\n",
        "with open('chengxi.html', 'w', encoding=\"utf-8\") as f:\n",
        "    f.writelines('<meta charset=\"UTF-8\">\\n<link rel=\"shortcut icon\" href=\"favicon.ico\">\\n')\n",
        "    f.write(cx_html)"
      ],
      "execution_count": 0,
      "outputs": []
    },
    {
      "cell_type": "code",
      "metadata": {
        "ExecuteTime": {
          "end_time": "2020-05-17T14:01:03.204242Z",
          "start_time": "2020-05-17T14:00:39.636836Z"
        },
        "scrolled": true,
        "id": "2pxlJWLgFc8p",
        "colab_type": "code",
        "colab": {}
      },
      "source": [
        "cd_1 = '城东办事处数据'\n",
        "cd_2 = '城东办事处'\n",
        "cd = z2[z2['办事处'] == cd_2]\n",
        "#cd = cd.sort_values(['有效拜访点次'], ascending=False)\n",
        "cd.set_index(['办事处', '姓名', '目标家数', '拜访网点数', '拜访网点达成率', '目标家次', '拜访总家次',\n",
        "               '拜访家次达成率', '有效拜访点次', '有效拜访率', '品牌'], inplace=True)\n",
        "cd_html = (\n",
        "          cd.style\n",
        "          .set_properties(**{'font-size': '14pt', 'font-family': 'Helvetica', 'text-align': 'right', \\\n",
        "                            'border-collapse': 'collapse', 'border': '0.5px solid black', 'padding': '5px'})\n",
        "          .background_gradient(color_map, subset=['货架-点次达成','生动化-点次达成','冰柜-点次达成', \\\n",
        "                                                     '堆箱-点次达成','多点-点次达成','订单量'])\n",
        "          .background_gradient(color_map_pink, subset=['货架点次目标', '生动化点次目标', '冰柜点次目标', \\\n",
        "                                                       '堆箱点次目标', '多点点次目标'])\n",
        "          .set_caption(cd_1)\n",
        "          .set_table_styles(\n",
        "                [{'selector': 'th',\n",
        "                  'props': [('background-color', 'white'),\n",
        "                           ('border', '0.5px solid black'),\n",
        "                           ('font-size','13pt')]}]\n",
        "#                  'th_props': [('border', '2px solid black')]}]\n",
        ")\n",
        "          .render()\n",
        ")\n",
        "\n",
        "with open('chengdong.html', 'w', encoding=\"utf-8\") as f:\n",
        "    f.writelines('<meta charset=\"UTF-8\">\\n<link rel=\"shortcut icon\" href=\"favicon.ico\">\\n')\n",
        "    f.write(cd_html)"
      ],
      "execution_count": 0,
      "outputs": []
    },
    {
      "cell_type": "code",
      "metadata": {
        "ExecuteTime": {
          "end_time": "2020-05-17T14:01:14.529399Z",
          "start_time": "2020-05-17T14:01:04.508407Z"
        },
        "scrolled": true,
        "id": "ROCGWNghFc8u",
        "colab_type": "code",
        "colab": {}
      },
      "source": [
        "cl_1 = '长临办事处数据'\n",
        "cl_2 = '长临办事处'\n",
        "cl = z2[z2['办事处'] == cl_2]\n",
        "#cl = cl.sort_values(['有效拜访点次'], ascending=False)\n",
        "cl.set_index(['办事处', '姓名', '目标家数', '拜访网点数', '拜访网点达成率', '目标家次', '拜访总家次',\n",
        "               '拜访家次达成率', '有效拜访点次', '有效拜访率', '品牌'], inplace=True)\n",
        "cl_html = (\n",
        "          cl.style\n",
        "          .set_properties(**{'font-size': '14pt', 'font-family': 'Helvetica', 'text-align': 'right', \\\n",
        "                            'border-collapse': 'collapse', 'border': '0.5px solid black', 'padding': '5px'})\n",
        "          .background_gradient(color_map, subset=['货架-点次达成','生动化-点次达成','冰柜-点次达成', \\\n",
        "                                                     '堆箱-点次达成','多点-点次达成','订单量'])\n",
        "          .background_gradient(color_map_pink, subset=['货架点次目标', '生动化点次目标', '冰柜点次目标', \\\n",
        "                                                       '堆箱点次目标', '多点点次目标'])\n",
        "          .set_caption(cl_1)\n",
        "          .set_table_styles(\n",
        "                [{'selector': 'th',\n",
        "                  'props': [('background-color', 'white'),\n",
        "                           ('border', '0.5px solid black'),\n",
        "                           ('font-size','13pt')]}]\n",
        "#                  'th_props': [('border', '2px solid black')]}]\n",
        ")\n",
        "          .render()\n",
        ")\n",
        "\n",
        "with open('changlin.html', 'w', encoding=\"utf-8\") as f:\n",
        "    f.writelines('<meta charset=\"UTF-8\">\\n<link rel=\"shortcut icon\" href=\"favicon.ico\">\\n')\n",
        "    f.write(cl_html)"
      ],
      "execution_count": 0,
      "outputs": []
    },
    {
      "cell_type": "code",
      "metadata": {
        "ExecuteTime": {
          "end_time": "2020-05-17T14:01:22.820862Z",
          "start_time": "2020-05-17T14:01:16.005168Z"
        },
        "scrolled": true,
        "id": "GaRJkRYQFc8y",
        "colab_type": "code",
        "colab": {}
      },
      "source": [
        "jx_1 = '西安郊县办事处数据'\n",
        "jx_2 = '西安郊县办事处'\n",
        "jx = z2[z2['办事处'] == jx_2]\n",
        "#jx = jx.sort_values(['有效拜访点次'], ascending=False)\n",
        "jx.set_index(['办事处', '姓名', '目标家数', '拜访网点数', '拜访网点达成率', '目标家次', '拜访总家次',\n",
        "               '拜访家次达成率', '有效拜访点次', '有效拜访率', '品牌'], inplace=True)\n",
        "jx_html = (\n",
        "          jx.style\n",
        "          .set_properties(**{'font-size': '14pt', 'font-family': 'Helvetica', 'text-align': 'right', \\\n",
        "                            'border-collapse': 'collapse', 'border': '0.5px solid black', 'padding': '5px'})\n",
        "          .background_gradient(color_map, subset=['货架-点次达成','生动化-点次达成','冰柜-点次达成', \\\n",
        "                                                     '堆箱-点次达成','多点-点次达成','订单量'])\n",
        "          .background_gradient(color_map_pink, subset=['货架点次目标', '生动化点次目标', '冰柜点次目标', \\\n",
        "                                                       '堆箱点次目标', '多点点次目标'])\n",
        "          .set_caption(jx_1)\n",
        "          .set_table_styles(\n",
        "                [{'selector': 'th',\n",
        "                  'props': [('background-color', 'white'),\n",
        "                           ('border', '0.5px solid black'),\n",
        "                           ('font-size','13pt')]}]\n",
        "#                  'th_props': [('border', '2px solid black')]}]\n",
        ")\n",
        "          .render()\n",
        ")\n",
        "\n",
        "with open('jiaoxian.html', 'w', encoding=\"utf-8\") as f:\n",
        "    f.writelines('<meta charset=\"UTF-8\">\\n<link rel=\"shortcut icon\" href=\"favicon.ico\">\\n')\n",
        "    f.write(jx_html)"
      ],
      "execution_count": 0,
      "outputs": []
    },
    {
      "cell_type": "code",
      "metadata": {
        "ExecuteTime": {
          "end_time": "2020-05-17T14:01:43.708105Z",
          "start_time": "2020-05-17T14:01:25.903416Z"
        },
        "scrolled": true,
        "id": "imYhf9xJFc81",
        "colab_type": "code",
        "colab": {}
      },
      "source": [
        "xy_1 = '咸阳办事处数据'\n",
        "xy_2 = '咸阳办事处'\n",
        "xy = z2[z2['办事处'] == xy_2]\n",
        "xy = xy.sort_values(['有效拜访点次'], ascending=False)\n",
        "xy.set_index(['办事处', '姓名', '目标家数', '拜访网点数', '拜访网点达成率', '目标家次', '拜访总家次',\n",
        "               '拜访家次达成率', '有效拜访点次', '有效拜访率', '品牌'], inplace=True)\n",
        "xy_html = (\n",
        "          xy.style\n",
        "          .set_properties(**{'font-size': '14pt', 'font-family': 'Helvetica', 'text-align': 'right', \\\n",
        "                            'border-collapse': 'collapse', 'border': '0.5px solid black', 'padding': '5px'})\n",
        "          .background_gradient(color_map, subset=['货架-点次达成','生动化-点次达成','冰柜-点次达成', \\\n",
        "                                                     '堆箱-点次达成','多点-点次达成','订单量'])\n",
        "          .background_gradient(color_map_pink, subset=['货架点次目标', '生动化点次目标', '冰柜点次目标', \\\n",
        "                                                       '堆箱点次目标', '多点点次目标'])\n",
        "          .set_caption(xy_1)\n",
        "          .set_table_styles(\n",
        "                [{'selector': 'th',\n",
        "                  'props': [('background-color', 'white'),\n",
        "                           ('border', '0.5px solid black'),\n",
        "                           ('font-size','13pt')]}]\n",
        "#                  'th_props': [('border', '2px solid black')]}]\n",
        ")\n",
        "          .render()\n",
        ")\n",
        "\n",
        "with open('xianyang.html', 'w', encoding=\"utf-8\") as f:\n",
        "    f.writelines('<meta charset=\"UTF-8\">\\n<link rel=\"shortcut icon\" href=\"favicon.ico\">\\n')\n",
        "    f.write(xy_html)"
      ],
      "execution_count": 0,
      "outputs": []
    },
    {
      "cell_type": "code",
      "metadata": {
        "ExecuteTime": {
          "end_time": "2020-05-17T14:01:53.114491Z",
          "start_time": "2020-05-17T14:01:43.713271Z"
        },
        "scrolled": true,
        "id": "r-O_IOo7Fc85",
        "colab_type": "code",
        "colab": {}
      },
      "source": [
        "wn_1 = '渭南办事处数据'\n",
        "wn_2 = '渭南办事处'\n",
        "wn = z2[z2['办事处'] == wn_2]\n",
        "#wn = wn.sort_values(['有效拜访点次'], ascending=False)\n",
        "wn.set_index(['办事处', '姓名', '目标家数', '拜访网点数', '拜访网点达成率', '目标家次', '拜访总家次',\n",
        "               '拜访家次达成率', '有效拜访点次', '有效拜访率', '品牌'], inplace=True)\n",
        "wn_html = (\n",
        "          wn.style\n",
        "          .set_properties(**{'font-size': '14pt', 'font-family': 'Helvetica', 'text-align': 'right', \\\n",
        "                            'border-collapse': 'collapse', 'border': '0.5px solid black', 'padding': '5px'})\n",
        "          .background_gradient(color_map, subset=['货架-点次达成','生动化-点次达成','冰柜-点次达成', \\\n",
        "                                                     '堆箱-点次达成','多点-点次达成','订单量'])\n",
        "          .background_gradient(color_map_pink, subset=['货架点次目标', '生动化点次目标', '冰柜点次目标', \\\n",
        "                                                       '堆箱点次目标', '多点点次目标'])\n",
        "          .set_caption(wn_1)\n",
        "          .set_table_styles(\n",
        "                [{'selector': 'th',\n",
        "                  'props': [('background-color', 'white'),\n",
        "                           ('border', '0.5px solid black'),\n",
        "                           ('font-size','13pt')]}]\n",
        "#                  'th_props': [('border', '2px solid black')]}]\n",
        ")\n",
        "          .render()\n",
        ")\n",
        "\n",
        "with open('weinan.html', 'w', encoding=\"utf-8\") as f:\n",
        "    f.writelines('<meta charset=\"UTF-8\">\\n<link rel=\"shortcut icon\" href=\"favicon.ico\">\\n')\n",
        "    f.write(wn_html)"
      ],
      "execution_count": 0,
      "outputs": []
    },
    {
      "cell_type": "code",
      "metadata": {
        "ExecuteTime": {
          "end_time": "2020-05-17T14:05:38.911156Z",
          "start_time": "2020-05-17T14:05:29.661063Z"
        },
        "scrolled": true,
        "id": "C5xH68pxFc89",
        "colab_type": "code",
        "colab": {}
      },
      "source": [
        "hz_1 = '汉中办事处数据'\n",
        "hz_2 = '汉中办事处'\n",
        "hz = z2[z2['办事处'] == hz_2]\n",
        "#hz = hz.sort_values(['有效拜访点次'], ascending=False)\n",
        "hz.set_index(['办事处', '姓名', '目标家数', '拜访网点数', '拜访网点达成率', '目标家次', '拜访总家次',\n",
        "               '拜访家次达成率', '有效拜访点次', '有效拜访率', '品牌'], inplace=True)\n",
        "hz_html = (\n",
        "          hz.style\n",
        "          .set_properties(**{'font-size': '14pt', 'font-family': 'Helvetica', 'text-align': 'right', \\\n",
        "                            'border-collapse': 'collapse', 'border': '0.5px solid black', 'padding': '5px'})\n",
        "          .background_gradient(color_map, subset=['货架-点次达成','生动化-点次达成','冰柜-点次达成', \\\n",
        "                                                     '堆箱-点次达成','多点-点次达成','订单量'])\n",
        "          .background_gradient(color_map_pink, subset=['货架点次目标', '生动化点次目标', '冰柜点次目标', \\\n",
        "                                                       '堆箱点次目标', '多点点次目标'])\n",
        "          .set_caption(hz_1)\n",
        "          .set_table_styles(\n",
        "                [{'selector': 'th',\n",
        "                  'props': [('background-color', 'white'),\n",
        "                           ('border', '0.5px solid black'),\n",
        "                           ('font-size','13pt')]}]\n",
        "#                  'th_props': [('border', '2px solid black')]}]\n",
        ")\n",
        "          .render()\n",
        ")\n",
        "\n",
        "with open('hanzhong.html', 'w', encoding=\"utf-8\") as f:\n",
        "    f.writelines('<meta charset=\"UTF-8\">\\n<link rel=\"shortcut icon\" href=\"favicon.ico\">\\n')\n",
        "    f.write(hz_html)"
      ],
      "execution_count": 0,
      "outputs": []
    },
    {
      "cell_type": "code",
      "metadata": {
        "ExecuteTime": {
          "end_time": "2020-05-17T14:02:02.304402Z",
          "start_time": "2020-05-17T14:01:53.120143Z"
        },
        "scrolled": true,
        "id": "kN7qB18NFc9B",
        "colab_type": "code",
        "colab": {}
      },
      "source": [
        "sl_1 = '商洛办事处数据'\n",
        "sl_2 = '商洛办事处'\n",
        "sl = z2[z2['办事处'] == sl_2]\n",
        "#sl = sl.sort_values(['有效拜访点次'], ascending=False)\n",
        "sl.set_index(['办事处', '姓名', '目标家数', '拜访网点数', '拜访网点达成率', '目标家次', '拜访总家次',\n",
        "               '拜访家次达成率', '有效拜访点次', '有效拜访率', '品牌'], inplace=True)\n",
        "sl_html = (\n",
        "          sl.style\n",
        "          .set_properties(**{'font-size': '14pt', 'font-family': 'Helvetica', 'text-align': 'right', \\\n",
        "                            'border-collapse': 'collapse', 'border': '0.5px solid black', 'padding': '5px'})\n",
        "          .background_gradient(color_map, subset=['货架-点次达成','生动化-点次达成','冰柜-点次达成', \\\n",
        "                                                     '堆箱-点次达成','多点-点次达成','订单量'])\n",
        "          .background_gradient(color_map_pink, subset=['货架点次目标', '生动化点次目标', '冰柜点次目标', \\\n",
        "                                                       '堆箱点次目标', '多点点次目标'])\n",
        "          .set_caption(sl_1)\n",
        "          .set_table_styles(\n",
        "                [{'selector': 'th',\n",
        "                  'props': [('background-color', 'white'),\n",
        "                           ('border', '0.5px solid black'),\n",
        "                           ('font-size','13pt')]}]\n",
        "#                  'th_props': [('border', '2px solid black')]}]\n",
        ")\n",
        "          .render()\n",
        ")\n",
        "\n",
        "with open('shangluo.html', 'w', encoding=\"utf-8\") as f:\n",
        "    f.writelines('<meta charset=\"UTF-8\">\\n<link rel=\"shortcut icon\" href=\"favicon.ico\">\\n')\n",
        "    f.write(sl_html)"
      ],
      "execution_count": 0,
      "outputs": []
    },
    {
      "cell_type": "code",
      "metadata": {
        "ExecuteTime": {
          "end_time": "2020-05-17T11:32:18.786243Z",
          "start_time": "2020-05-17T11:32:15.862390Z"
        },
        "scrolled": false,
        "id": "8i2aU-HOFc9F",
        "colab_type": "code",
        "colab": {}
      },
      "source": [
        "p1 = z.pivot_table(index=['办事处','品牌'],values=['目标家数','拜访网点数','目标家次','拜访总家次','有效拜访点次', \\\n",
        "                                              '货架点次目标','生动化点次目标','冰柜点次目标','堆箱点次目标','多点点次目标', \\\n",
        "                                             '货架-点次达成','生动化-点次达成','冰柜-点次达成','堆箱-点次达成','多点-点次达成', \\\n",
        "                                             '订单量'], \\\n",
        "                   aggfunc=[np.sum],fill_value=0)\n",
        "p_1 = ['办事处','目标家数','拜访网点数','目标家次','拜访总家次','有效拜访点次', \\\n",
        "       '品牌','订单量','货架点次目标','货架-点次达成','生动化点次目标','生动化-点次达成','冰柜点次目标','冰柜-点次达成', \\\n",
        "       '堆箱点次目标','堆箱-点次达成','多点点次目标','多点-点次达成']\n",
        "p1 = pd.DataFrame(p1)\n",
        "p1.reset_index(drop=False,inplace=True)\n",
        "p1.to_csv('5-2.csv')\n",
        "p2 = pd.read_csv('5-2.csv',header=None,skiprows=2,index_col=0)\n",
        "p2 =p2.iloc[:,[0,13,9,14,8,10,1,15,17,16,12,11,3,2,5,4,7,6]]\n",
        "p2.columns = p_1\n",
        "p2['品牌'] = p2['品牌'].astype('category')\n",
        "p2['品牌'].cat.reorder_categories(px1, inplace=True)\n",
        "p2.reset_index(drop=True,inplace=True)\n",
        "p2.insert(10, '货架点次达成率',p2['货架-点次达成'] / p2['货架点次目标'])\n",
        "p2.insert(13, '生动化点次达成率', p2['生动化-点次达成'] / p2['生动化点次目标'])\n",
        "p2.insert(16, '冰柜点次达成率', p2['冰柜-点次达成'] / p2['冰柜点次目标'])\n",
        "p2.insert(19, '堆箱点次达成率', p2['堆箱-点次达成'] / p2['堆箱点次目标'])\n",
        "p2.insert(22, '多点点次达成率', p2['多点-点次达成'] / p2['多点点次目标'])\n",
        "p2.insert(3, '拜访网点达成率', p2['拜访网点数']/ p2['目标家数'])\n",
        "p2.insert(6, '拜访家次达成率', p2['拜访总家次']/ p2['目标家次'])\n",
        "p2.insert(8, '有效拜访率', p2['有效拜访点次']/ p2['拜访总家次'])\n",
        "p2 = p2.replace([np.inf, -np.inf], np.NaN)\n",
        "p2 = p2.astype({'货架点次目标':int, '生动化点次目标':int, '冰柜点次目标':int, '堆箱点次目标':int, '多点点次目标':int})\n",
        "p2['货架点次达成率'] = p2['货架点次达成率'].apply(lambda x: format(x, '.0%'))\n",
        "p2['生动化点次达成率'] = p2['生动化点次达成率'].apply(lambda x: format(x, '.0%'))\n",
        "p2['冰柜点次达成率'] = p2['冰柜点次达成率'].apply(lambda x: format(x, '.0%'))\n",
        "p2['堆箱点次达成率'] = p2['堆箱点次达成率'].apply(lambda x: format(x, '.0%'))\n",
        "p2['多点点次达成率'] = p2['多点点次达成率'].apply(lambda x: format(x, '.0%'))\n",
        "p2['拜访网点达成率'] = p2['拜访网点达成率'].apply(lambda x: format(x, '.0%'))\n",
        "p2['拜访家次达成率'] = p2['拜访家次达成率'].apply(lambda x: format(x, '.0%'))\n",
        "p2['有效拜访率'] = p2['有效拜访率'].apply(lambda x: format(x, '.0%'))\n",
        "#p2.sort_values(['办事处','品牌'], inplace=True)\n",
        "p3 = p2.set_index(['办事处','目标家数','拜访网点数','拜访网点达成率', \\\n",
        "                   '目标家次','拜访总家次','拜访家次达成率','有效拜访点次','有效拜访率','品牌'])\n",
        "p3.sort_index(level=[0,9,8],ascending=[True,True,False],inplace=True)\n",
        "p4 = p3.style.background_gradient(color_map, subset=['货架-点次达成','生动化-点次达成','冰柜-点次达成', \\\n",
        "                                                     '堆箱-点次达成','多点-点次达成','订单量'])\n",
        "p4.to_excel('RED项目达成分析-办事处.xlsx')"
      ],
      "execution_count": 0,
      "outputs": []
    },
    {
      "cell_type": "code",
      "metadata": {
        "ExecuteTime": {
          "end_time": "2020-05-17T14:02:49.909052Z",
          "start_time": "2020-05-17T14:02:36.204276Z"
        },
        "id": "nUiBDzCtFc9I",
        "colab_type": "code",
        "colab": {}
      },
      "source": [
        "p3_1 = 'RED项目达成分析-办事处'\n",
        "p3_html = (\n",
        "          p3.style\n",
        "          .set_properties(**{'font-size': '14pt', 'font-family': 'Helvetica', 'text-align': 'right', \\\n",
        "                            'border-collapse': 'collapse', 'border': '0.2px solid black', 'padding': '5px'})\n",
        "          .background_gradient(color_map, subset=['货架-点次达成','生动化-点次达成','冰柜-点次达成', \\\n",
        "                                                     '堆箱-点次达成','多点-点次达成','订单量'])\n",
        "          .background_gradient(color_map_pink, subset=['货架点次目标', '生动化点次目标', '冰柜点次目标', \\\n",
        "                                                       '堆箱点次目标', '多点点次目标'])\n",
        "          .set_caption(p3_1)\n",
        "          .set_table_styles(\n",
        "                [{'selector': 'th',\n",
        "                  'props': [('background-color', 'white'),\n",
        "                           ('border', '0.2px solid black'),\n",
        "                           ('font-size','13pt')]}]\n",
        "#                  'th_props': [('border', '2px solid black')]}]\n",
        ")\n",
        "          .render()\n",
        ")\n",
        "with open('bscdc.html', 'w', encoding=\"utf-8\") as f:\n",
        "    f.writelines('<meta charset=\"UTF-8\">\\n<link rel=\"shortcut icon\" href=\"favicon.ico\">\\n')\n",
        "    f.write(p3_html)\n",
        "#    f.write(html_string.format(table=p3.to_html(classes='mystyle')))"
      ],
      "execution_count": 0,
      "outputs": []
    },
    {
      "cell_type": "code",
      "metadata": {
        "ExecuteTime": {
          "end_time": "2020-05-17T11:32:28.755660Z",
          "start_time": "2020-05-17T11:32:28.740409Z"
        },
        "id": "8D6yEpW-Fc9L",
        "colab_type": "code",
        "colab": {}
      },
      "source": [
        "html_string = '''\n",
        "<html>\n",
        "  <head><title> 5月RED执行情况分析 </title></head></div>\n",
        "  <body>\n",
        "    <p><div align=\"left\"><h1>5月RED跟进分析,截止2020年5月15日。</h1></div></p>\n",
        "    <p><h2><a href=\"https://red.yanlong.app/bscdc.html\"><div style=\"color:blue\">A. 点击查看\"全部办事处\"达成</div></a></h2></p>\n",
        "    <p><h2><a href=\"https://red.yanlong.app/ywydc.html\"><div style=\"color:blue\">B. 点击查看\"全部业务员\"达成</div></a></h2></p>\n",
        "    <p><h2><a href=\"https://red.yanlong.app/chengdong.html\"><div style=\"color:blue\">1. 点击查看\"城东办事处\"达成</div></a></h2></p>\n",
        "    <p><h2><a href=\"https://red.yanlong.app/chengxi.html\"><div style=\"color:blue\">2. 点击查看\"城西办事处\"达成</div></a></h2></p>\n",
        "    <p><h2><a href=\"https://red.yanlong.app/changlin.html\"><div style=\"color:blue\">3. 点击查看\"长临办事处\"达成</div></a></h2></p>\n",
        "    <p><h2><a href=\"https://red.yanlong.app/jiaoxian.html\"><div style=\"color:blue\">4. 点击查看\"郊县办事处\"达成</div></a></h2></p>\n",
        "    <p><h2><a href=\"https://red.yanlong.app/xianyang.html\"><div style=\"color:blue\">5. 点击查看\"咸阳办事处\"达成</div></a></h2></p>\n",
        "    <p><h2><a href=\"https://red.yanlong.app/weinan.html\"><div style=\"color:blue\">6. 点击查看\"渭南办事处\"达成</div></a></h2></p>\n",
        "    <p><h2><a href=\"https://red.yanlong.app/hanzhong.html\"><div style=\"color:blue\">7. 点击查看\"汉中办事处\"达成</div></a></h2></p>\n",
        "    <p><h2><a href=\"https://red.yanlong.app/shangluo.html\"><div style=\"color:blue\">8. 点击查看\"商洛办事处\"达成</div></a></h2></p>\n",
        "    <p><h2><a href=\"https://red.yanlong.app/RED项目达成分析-办事处.xlsx\"><div style=\"color:red\">*. 点击下载\"全部办事处\"表格</div></a></h2></p>\n",
        "    <p><h2><a href=\"https://red.yanlong.app/RED项目达成分析-业务员.xlsx\"><div style=\"color:red\">*. 点击下载\"全部业务员\"表格</div></a></h2></p>\n",
        "    </div>\n",
        "    {table}\n",
        "  </body>\n",
        "</html>.\n",
        "'''\n",
        "with open('index.html', 'w', encoding=\"utf-8\") as f:\n",
        "    f.writelines('<meta charset=\"UTF-8\">\\n<link rel=\"shortcut icon\" href=\"favicon.ico\">\\n')\n",
        "    f.write(html_string.format(table=''))"
      ],
      "execution_count": 0,
      "outputs": []
    },
    {
      "cell_type": "code",
      "metadata": {
        "id": "J8yy8e1gFc9P",
        "colab_type": "code",
        "colab": {}
      },
      "source": [
        ""
      ],
      "execution_count": 0,
      "outputs": []
    }
  ]
}